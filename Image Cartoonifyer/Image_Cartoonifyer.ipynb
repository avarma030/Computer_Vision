{
 "cells": [
  {
   "cell_type": "code",
   "execution_count": 1,
   "id": "61de8c6b",
   "metadata": {},
   "outputs": [],
   "source": [
    "import cv2 #OpenCV for image processing\n",
    "import easygui #Opens filebox\n",
    "import numpy as np\n",
    "import imageio #Reads image stored at a particular path\n",
    "import sys\n",
    "import matplotlib.pyplot as plt\n",
    "import os\n",
    "import tkinter as tk\n",
    "from tkinter import filedialog\n",
    "from tkinter import *\n",
    "from PIL import ImageTk, Image"
   ]
  },
  {
   "cell_type": "code",
   "execution_count": 2,
   "id": "80717daa",
   "metadata": {},
   "outputs": [],
   "source": [
    "top=tk.Tk()\n",
    "top.geometry('400x400')\n",
    "top.title('Cartoonification')\n",
    "top.configure(background='black')\n",
    "label=Label(top,background='#CDCDCD', font=('calibri',20,'bold'))"
   ]
  },
  {
   "cell_type": "code",
   "execution_count": 3,
   "id": "a7de3f0c",
   "metadata": {},
   "outputs": [],
   "source": [
    "def upload():\n",
    "    ImagePath=easygui.fileopenbox()\n",
    "    cartoonify(ImagePath)"
   ]
  },
  {
   "cell_type": "code",
   "execution_count": 4,
   "id": "d0961076",
   "metadata": {},
   "outputs": [],
   "source": [
    "def cartoonify(ImagePath):\n",
    "    \n",
    "    # read the image\n",
    "    original_img = cv2.imread(ImagePath)\n",
    "    original_img = cv2.cvtColor(original_img, cv2.COLOR_BGR2RGB)\n",
    "    #print(image)\n",
    "\n",
    "    # confirm if image is loaded or not\n",
    "    if original_img is None:\n",
    "        print(\"No image found.\\n Choose appropriate file\")\n",
    "        sys.exit()\n",
    "\n",
    "    rs1 = cv2.resize(original_img, (960, 540))\n",
    "    #plt.imshow(rs1, cmap='gray')\n",
    "    \n",
    "    #grayscale conversion\n",
    "    grayScaleImage= cv2.cvtColor(original_img, cv2.COLOR_BGR2GRAY)\n",
    "    rs2 = cv2.resize(grayScaleImage, (960, 540))\n",
    "    #plt.imshow(rs2, cmap='gray')\n",
    "    \n",
    "    #image smoothening by applying median blur\n",
    "    smoothGrayScale = cv2.medianBlur(grayScaleImage, 5)\n",
    "    rs3 = cv2.resize(smoothGrayScale, (960, 540))\n",
    "    #plt.imshow(rs3, cmap='gray')\n",
    "\n",
    "    #retrieving the edges by using thresholding technique\n",
    "    getEdge = cv2.adaptiveThreshold(smoothGrayScale, 255, \n",
    "        cv2.ADAPTIVE_THRESH_MEAN_C, \n",
    "        cv2.THRESH_BINARY, 9, 9)\n",
    "\n",
    "    rs4 = cv2.resize(getEdge, (960, 540))\n",
    "    #plt.imshow(rs4, cmap='gray')\n",
    "\n",
    "    #removing noise and keeping edge sharp usingvbilateral filter \n",
    "    colorImage = cv2.bilateralFilter(original_img, 9, 300, 300)\n",
    "    rs5 = cv2.resize(colorImage, (960, 540))\n",
    "    #plt.imshow(rs5, cmap='gray')\n",
    "\n",
    "\n",
    "    #masking edge image with cartoonified image\n",
    "    cartoonImage = cv2.bitwise_and(colorImage, colorImage, mask=getEdge)\n",
    "    rs6 = cv2.resize(cartoonImage, (960, 540))\n",
    "    #plt.imshow(rs6, cmap='gray')\n",
    "\n",
    "    # Plot the entire process\n",
    "    images=[rs1, rs2, rs3, rs4, rs5, rs6]\n",
    "\n",
    "    fig, axes = plt.subplots(3,2, figsize=(8,8), subplot_kw={'xticks':[], 'yticks':[]}, gridspec_kw=dict(hspace=0.1, wspace=0.1))\n",
    "    for i, ax in enumerate(axes.flat):\n",
    "        ax.imshow(images[i], cmap='gray')\n",
    "\n",
    "    save1=Button(top,text=\"Save Image\",command=lambda: save(rs6, ImagePath),padx=30,pady=5)\n",
    "    save1.configure(background='white', foreground='black',font=('calibri',10,'bold'))\n",
    "    save1.pack(side=TOP,pady=50)\n",
    "    \n",
    "    plt.show()"
   ]
  },
  {
   "cell_type": "code",
   "execution_count": 5,
   "id": "9744d786",
   "metadata": {},
   "outputs": [],
   "source": [
    "def save(ReSized6, ImagePath):\n",
    "    \n",
    "    #imwrite() is used to save an image\n",
    "    newName=\"cartoonified_Image\"\n",
    "    path1 = os.path.dirname(ImagePath)\n",
    "    extension=os.path.splitext(ImagePath)[1]\n",
    "    path = os.path.join(path1, newName+extension)\n",
    "    cv2.imwrite(path, cv2.cvtColor(ReSized6, cv2.COLOR_RGB2BGR))\n",
    "    I= \"Image saved by name \" + newName +\" at \"+ path\n",
    "    tk.messagebox.showinfo(title=None, message=I)"
   ]
  },
  {
   "cell_type": "code",
   "execution_count": 6,
   "id": "8ec4baf5",
   "metadata": {},
   "outputs": [],
   "source": [
    "upload=Button(top,text=\"Select an Image\",command=upload,padx=10,pady=5)\n",
    "upload.configure(background='white', foreground='black',font=('calibri',10,'bold'))\n",
    "upload.pack(side=TOP,pady=50)\n",
    "\n",
    "top.mainloop()"
   ]
  },
  {
   "cell_type": "code",
   "execution_count": null,
   "id": "a96b3149",
   "metadata": {},
   "outputs": [],
   "source": []
  }
 ],
 "metadata": {
  "kernelspec": {
   "display_name": "Python 3 (ipykernel)",
   "language": "python",
   "name": "python3"
  },
  "language_info": {
   "codemirror_mode": {
    "name": "ipython",
    "version": 3
   },
   "file_extension": ".py",
   "mimetype": "text/x-python",
   "name": "python",
   "nbconvert_exporter": "python",
   "pygments_lexer": "ipython3",
   "version": "3.9.0"
  }
 },
 "nbformat": 4,
 "nbformat_minor": 5
}
